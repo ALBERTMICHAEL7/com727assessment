{
 "cells": [
  {
   "cell_type": "code",
   "execution_count": 7,
   "id": "42681c0a",
   "metadata": {},
   "outputs": [
    {
     "name": "stdout",
     "output_type": "stream",
     "text": [
      "(8439,)\n",
      "0                      [\"Fire extinguisher\"\n",
      "0                              \"Hair dryer\"\n",
      "0                                 \"Hangers\"\n",
      "0                   \"Dishes and silverware\"\n",
      "0                 \"Luggage dropoff allowed\"\n",
      "                       ...                 \n",
      "8438     \"65\\\" HDTV with Amazon Prime Video\n",
      "8438                               Apple TV\n",
      "8438                                Netflix\n",
      "8438                        standard cable\"\n",
      "8438            \"Central air conditioning\"]\n",
      "Name: amenities, Length: 253976, dtype: object\n",
      "number amenities choosed by air_bnb users in uk, from most to least is listed below\n",
      " \"Kitchen\"                                               7671\n",
      " \"Smoke alarm\"                                           7461\n",
      " \"Wifi\"                                                  6733\n",
      " \"Iron\"                                                  6710\n",
      " \"Hangers\"                                               6633\n",
      "                                                         ... \n",
      " \"Google home Bluetooth sound system\"                       1\n",
      " \"Game console: PS4 and Xbox 360\"                           1\n",
      " \"Samsung blue tooth speaker  Bluetooth sound system\"       1\n",
      " \"Fast wifi \\u2013 75 Mbps\"]                                1\n",
      " \"LG oven\"                                                  1\n",
      "Name: amenities, Length: 2475, dtype: int64\n",
      "most choosed amenity\n",
      "-----------------------------------------------------------------------------------------------------------------------------------------------------------------------------------------------------------------------------------------------------------------------------------------------------------\n",
      " \"Kitchen\"\n",
      "<bound method GroupBy.mean of <pandas.core.groupby.generic.DataFrameGroupBy object at 0x0000020EA5240640>>\n"
     ]
    }
   ],
   "source": [
    "import pandas as pd\n",
    "df=pd.read_csv(\"./Airbnb_UK_2022.csv\",header=0)\n",
    "g=df.groupby('amenities')\n",
    "# for group,item_in_group in g:\n",
    "#     print({group})\n",
    "#     print(item_in_group)\n",
    "      \n",
    "dm=df.amenities\n",
    "k=[]\n",
    "for row in dm:\n",
    "    k.append(row)\n",
    "G=pd.DataFrame(k,columns=['amenities'])\n",
    "\n",
    "k=G['amenities'].str.split(',')\n",
    "# print(k[1])\n",
    "print(k.shape)\n",
    "m=k.explode()\n",
    "print(m)\n",
    "print(\"number amenities choosed by air_bnb users in uk, from most to least is listed below\")\n",
    "print(m.value_counts())\n",
    "print(\"most choosed amenity\")\n",
    "print(\"-----------------------------------------------------------------------------------------------------------------------------------------------------------------------------------------------------------------------------------------------------------------------------------------------------------\")\n",
    "print(m.value_counts().idxmax())\n",
    "Data={}\n",
    "#for i in range(len(k)):\n",
    "    #Data={\"val\":k.iloc[0:8439]}\n",
    "\n",
    "# c=pd.DataFrame(Data,)\n",
    "# c\n",
    "# c.explode\n",
    "#print(len(k))\n",
    "# dh=dm.unique()\n",
    "# dm.value_counts()\n",
    "#for row in dm:\n",
    "#mt=[]\n",
    "# for i in range(len(k)):\n",
    "#     data=[k[i] ]\n",
    "#     mata.update(data)\n",
    "# mm=pd.DataFrame(mata,)    \n",
    "# print(mm)\n",
    "# mm.\n",
    "print(df.groupby('host_location').mean)\n",
    "\n",
    "\n",
    "\n"
   ]
  },
  {
   "cell_type": "code",
   "execution_count": 13,
   "id": "726d5c03",
   "metadata": {},
   "outputs": [
    {
     "name": "stdout",
     "output_type": "stream",
     "text": [
      "host_location\n",
      "Aberdeen          152.333333\n",
      "Aberystwyth        64.000000\n",
      "Addington         124.000000\n",
      "Ascot             300.000000\n",
      "Ashford            65.375000\n",
      "                     ...    \n",
      "Wolverton          87.000000\n",
      "Woodford           65.333333\n",
      "Worcester Park     37.000000\n",
      "Wraysbury          76.000000\n",
      "York              250.000000\n",
      "Name: price, Length: 309, dtype: float64\n"
     ]
    }
   ],
   "source": [
    "print(df.groupby('host_location')['price'].mean())"
   ]
  },
  {
   "cell_type": "code",
   "execution_count": 14,
   "id": "db128431",
   "metadata": {},
   "outputs": [
    {
     "name": "stdout",
     "output_type": "stream",
     "text": [
      "host_location\n",
      "Aberdeen          4.256667\n",
      "Aberystwyth       4.820000\n",
      "Addington         4.710000\n",
      "Ascot             4.940000\n",
      "Ashford           4.596250\n",
      "                    ...   \n",
      "Wolverton         4.900000\n",
      "Woodford          4.883333\n",
      "Worcester Park    4.500000\n",
      "Wraysbury         4.550000\n",
      "York              4.630000\n",
      "Name: review_scores_rating, Length: 309, dtype: float64\n"
     ]
    }
   ],
   "source": [
    "print(df.groupby('host_location')['review_scores_rating'].mean())"
   ]
  },
  {
   "cell_type": "code",
   "execution_count": 15,
   "id": "e0eca844",
   "metadata": {},
   "outputs": [
    {
     "name": "stdout",
     "output_type": "stream",
     "text": [
      "host_location\n",
      "Aberdeen           5.666667\n",
      "Aberystwyth       11.000000\n",
      "Addington          7.000000\n",
      "Ascot             17.000000\n",
      "Ashford           92.000000\n",
      "                    ...    \n",
      "Wolverton         48.000000\n",
      "Woodford          91.000000\n",
      "Worcester Park    20.000000\n",
      "Wraysbury         65.000000\n",
      "York               8.000000\n",
      "Name: number_of_reviews, Length: 309, dtype: float64\n"
     ]
    }
   ],
   "source": [
    "print(df.groupby('host_location')['number_of_reviews'].mean())"
   ]
  },
  {
   "cell_type": "code",
   "execution_count": null,
   "id": "13082aff",
   "metadata": {},
   "outputs": [],
   "source": []
  }
 ],
 "metadata": {
  "kernelspec": {
   "display_name": "Python 3 (ipykernel)",
   "language": "python",
   "name": "python3"
  },
  "language_info": {
   "codemirror_mode": {
    "name": "ipython",
    "version": 3
   },
   "file_extension": ".py",
   "mimetype": "text/x-python",
   "name": "python",
   "nbconvert_exporter": "python",
   "pygments_lexer": "ipython3",
   "version": "3.9.13"
  }
 },
 "nbformat": 4,
 "nbformat_minor": 5
}
