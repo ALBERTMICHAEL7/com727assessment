{
 "cells": [
  {
   "cell_type": "code",
   "execution_count": 1,
   "id": "42681c0a",
   "metadata": {},
   "outputs": [],
   "source": [
    "import pandas as pd\n",
    "df=pd.read_csv(\"./Airbnb_UK_2022.csv\",header=0)\n",
    "g=df.groupby('amenities')\n",
    "# for group,item_in_group in g:\n",
    "#     print({group})\n",
    "#     print(item_in_group)\n",
    "      \n",
    "dm=df.amenities\n",
    "k=[]\n",
    "for row in dm:\n",
    "    k.append(row)\n",
    "G=pd.DataFrame(k,columns=['amenities'])\n",
    "G.groupby('amenities')\n",
    "\n",
    "k=G['amenities'].str.split(',')\n",
    "# print(k[1])\n",
    "\n",
    "\n"
   ]
  },
  {
   "cell_type": "code",
   "execution_count": null,
   "id": "726d5c03",
   "metadata": {},
   "outputs": [],
   "source": []
  },
  {
   "cell_type": "code",
   "execution_count": null,
   "id": "db128431",
   "metadata": {},
   "outputs": [],
   "source": []
  }
 ],
 "metadata": {
  "kernelspec": {
   "display_name": "Python 3 (ipykernel)",
   "language": "python",
   "name": "python3"
  },
  "language_info": {
   "codemirror_mode": {
    "name": "ipython",
    "version": 3
   },
   "file_extension": ".py",
   "mimetype": "text/x-python",
   "name": "python",
   "nbconvert_exporter": "python",
   "pygments_lexer": "ipython3",
   "version": "3.9.13"
  }
 },
 "nbformat": 4,
 "nbformat_minor": 5
}
