{
 "cells": [
  {
   "cell_type": "code",
   "execution_count": null,
   "id": "232eebc8",
   "metadata": {},
   "outputs": [],
   "source": [
    "import csv\n",
    "import sqlite3\n",
    "#import moduleprs.ipynb\n",
    " \n",
    "#file_name = \"Airbnb_UK_2022.csv\"\n",
    "data=[]\n",
    "host_id= input(\"enter host id\")\n",
    "with open(\"./Airbnb_UK_2022.csv\",errors=\"ignore\") as csv_file:\n",
    "    csv_reader=csv.reader(csv_file)\n",
    "    header=next(csv_file)\n",
    "    print(header)\n",
    "    for row in csv_reader:\n",
    "        if host_id in row:\n",
    "            print (f\"{row[0:1]},{row[2]},{row[3]},{row[5]}, \")\n",
    "            host_location=input(\"enter host location\")\n",
    "            for row in csv_reader:\n",
    "                if host_location in row:\n",
    "                    print(f\"{row[3]}, {row[13]}, {row[20]},{row[21]},{row[22]}\")\n",
    "print(\"-------------- end of search. Please enter another search to continue---------\")\n",
    "with open(\"./Airbnb_UK_2022.csv\",errors=\"ignore\") as csv_file:\n",
    "    csv_reader=csv.reader(csv_file)\n",
    "    g=input(\"enter the location to search for review details there\")\n",
    "    for row in csv_reader:\n",
    "        if host_location in row: \n",
    "            print({row[31]},{row[32]},{row[33]})\n",
    "    \n",
    "prs.property_type_search\n",
    "                    "
   ]
  },
  {
   "cell_type": "code",
   "execution_count": null,
   "id": "16c70c42",
   "metadata": {},
   "outputs": [],
   "source": []
  }
 ],
 "metadata": {
  "kernelspec": {
   "display_name": "Python 3 (ipykernel)",
   "language": "python",
   "name": "python3"
  },
  "language_info": {
   "codemirror_mode": {
    "name": "ipython",
    "version": 3
   },
   "file_extension": ".py",
   "mimetype": "text/x-python",
   "name": "python",
   "nbconvert_exporter": "python",
   "pygments_lexer": "ipython3",
   "version": "3.9.13"
  }
 },
 "nbformat": 4,
 "nbformat_minor": 5
}
