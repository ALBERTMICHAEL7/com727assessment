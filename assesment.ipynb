{
 "cells": [
  {
   "cell_type": "code",
   "execution_count": 2,
   "id": "d403b95a",
   "metadata": {
    "scrolled": true
   },
   "outputs": [
    {
     "ename": "ModuleNotFoundError",
     "evalue": "No module named 'moduleprs'",
     "output_type": "error",
     "traceback": [
      "\u001b[1;31m---------------------------------------------------------------------------\u001b[0m",
      "\u001b[1;31mModuleNotFoundError\u001b[0m                       Traceback (most recent call last)",
      "Cell \u001b[1;32mIn[2], line 3\u001b[0m\n\u001b[0;32m      1\u001b[0m \u001b[38;5;28;01mimport\u001b[39;00m \u001b[38;5;21;01mcsv\u001b[39;00m\n\u001b[0;32m      2\u001b[0m \u001b[38;5;28;01mimport\u001b[39;00m \u001b[38;5;21;01msqlite3\u001b[39;00m\n\u001b[1;32m----> 3\u001b[0m \u001b[38;5;28;01mimport\u001b[39;00m \u001b[38;5;21;01mmoduleprs\u001b[39;00m\u001b[38;5;21;01m.\u001b[39;00m\u001b[38;5;21;01mipynb\u001b[39;00m\n\u001b[0;32m      5\u001b[0m \u001b[38;5;66;03m#file_name = \"Airbnb_UK_2022.csv\"\u001b[39;00m\n\u001b[0;32m      6\u001b[0m data\u001b[38;5;241m=\u001b[39m[]\n",
      "\u001b[1;31mModuleNotFoundError\u001b[0m: No module named 'moduleprs'"
     ]
    }
   ],
   "source": [
    "import csv\n",
    "import sqlite3\n",
    "import moduleprs.ipynb\n",
    " \n",
    "#file_name = \"Airbnb_UK_2022.csv\"\n",
    "data=[]\n",
    "host_id= input(\"enter host id\")\n",
    "with open(\"./Airbnb_UK_2022.csv\",errors=\"ignore\") as csv_file:\n",
    "    csv_reader=csv.reader(csv_file)\n",
    "    header=next(csv_file)\n",
    "    print(header)\n",
    "    for row in csv_reader:\n",
    "        if host_id in row:\n",
    "            print (f\"{row[0:1]},{row[2]},{row[3]},{row[5]}, \")\n",
    "            host_location=input(\"enter host location\")\n",
    "            for row in csv_reader:\n",
    "                if host_location in row:\n",
    "                    print(f\"{row[3]}, {row[13]}, {row[20]},{row[21]},{row[22]}\")\n",
    "print(\"-------------- end of search. Please enter another search to continue---------\")\n",
    "prs.property_type_search\n",
    "                    \n",
    "print(f\"{data}\")\n",
    "    \n",
    "                  \n",
    "        \n",
    "        \n"
   ]
  },
  {
   "cell_type": "code",
   "execution_count": null,
   "id": "8c4a6068",
   "metadata": {},
   "outputs": [],
   "source": []
  },
  {
   "cell_type": "code",
   "execution_count": null,
   "id": "b45974a9",
   "metadata": {},
   "outputs": [],
   "source": []
  },
  {
   "cell_type": "code",
   "execution_count": null,
   "id": "3d8a340e",
   "metadata": {},
   "outputs": [],
   "source": []
  }
 ],
 "metadata": {
  "kernelspec": {
   "display_name": "Python 3 (ipykernel)",
   "language": "python",
   "name": "python3"
  },
  "language_info": {
   "codemirror_mode": {
    "name": "ipython",
    "version": 3
   },
   "file_extension": ".py",
   "mimetype": "text/x-python",
   "name": "python",
   "nbconvert_exporter": "python",
   "pygments_lexer": "ipython3",
   "version": "3.9.16"
  }
 },
 "nbformat": 4,
 "nbformat_minor": 5
}
